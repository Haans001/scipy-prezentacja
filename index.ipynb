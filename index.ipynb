{
 "cells": [
  {
   "cell_type": "markdown",
   "metadata": {},
   "source": [
    "# Wprowadzenie do Biblioteki SciPy\n",
    "\n",
    "## Czym jest SciPy?\n",
    "\n",
    "[SciPy](https://scipy.org/) to biblioteka języka Python, która stanowi rdzeń ekosystemu narzędzi do obliczeń naukowych i technicznych. Zbudowana jest na bazie biblioteki NumPy, rozszerzając jej możliwości o szeroki wachlarz algorytmów numerycznych i narzędzi zgrupowanych w tematyczne moduły. SciPy udostępnia wysokopoziomowe komendy i klasy do wizualizacji i manipulacji danymi, co czyni ją niezwykle użyteczną w badaniach naukowych, analizie danych i inżynierii.\n",
    "\n",
    "## Twórcy\n",
    "\n",
    "SciPy to projekt typu open-source, rozwijany i utrzymywany przez dużą, aktywną, międzynarodową społeczność deweloperów, naukowców i użytkowników. Chociaż kluczowe role we wczesnym etapie tworzenia odegrali m.in. Travis Oliphant (twórca NumPy), Pearu Peterson oraz Eric Jones, to obecny kształt i bogactwo biblioteki są wynikiem wkładu setek współtwórców na przestrzeni lat. Rozwój jest koordynowany publicznie, głównie za pośrednictwem platformy GitHub.\n",
    "\n",
    "## Jakie rozwiązuje SciPy?\n",
    "\n",
    "Biblioteka SciPy została stworzona, aby dostarczyć programistom i naukowcom w Pythonie narzędzi do rozwiązywania typowych problemów obliczeniowych spotykanych w nauce i technice. Oferuje ona zaimplementowane, wydajne i przetestowane algorytmy m.in. do:\n",
    "\n",
    "* **Optymalizacji:** Znajdowanie minimum lub maksimum funkcji, dopasowywanie krzywych.\n",
    "* **Algebry liniowej:** Zaawansowane operacje na macierzach, rozkłady (np. SVD, QR), rozwiązywanie układów równań liniowych, obliczanie wartości i wektorów własnych.\n",
    "* **Całkowania numerycznego:** Obliczanie całek oznaczonych.\n",
    "* **Interpolacji:** Wygładzanie i estymowanie wartości pomiędzy punktami danych.\n",
    "* **Przetwarzania sygnałów:** Filtrowanie, analiza Fouriera (FFT), projektowanie filtrów.\n",
    "* **Przetwarzania obrazów:** Podstawowe operacje na obrazach, filtrowanie, analiza morfologiczna.\n",
    "* **Statystyki:** Generowanie liczb losowych z różnych rozkładów, testy statystyczne, estymacja gęstości.\n",
    "* **Funkcji specjalnych:** Obliczanie wartości wielu powszechnie używanych funkcji matematycznych i fizycznych (np. funkcje Bessela, funkcje gamma, funkcje błędu).\n",
    "* **Rozwiązywania równań różniczkowych zwyczajnych (ODE):** Integracja numeryczna układów równań różniczkowych.\n",
    "\n",
    "## Dla kogo jest ta biblioteka?\n",
    "\n",
    "SciPy jest przeznaczona dla bardzo szerokiego grona użytkowników, w zasadzie dla każdego, kto potrzebuje wykonywać obliczenia numeryczne w Pythonie, wykraczające poza podstawowe operacje arytmetyczne i manipulację tablicami (które zapewnia NumPy). Głównymi odbiorcami są:\n",
    "\n",
    "* **Naukowcy i badacze:** Z różnych dziedzin, takich jak fizyka, biologia, chemia, astronomia, ekonomia, neuronauka.\n",
    "* **Inżynierowie:** Potrzebujący narzędzi do symulacji, modelowania, analizy danych pomiarowych, przetwarzania sygnałów.\n",
    "* **Analitycy danych (Data Scientists):** Do zadań związanych z optymalizacją, statystyką, przetwarzaniem danych.\n",
    "* **Studenci:** Kierunków ścisłych, technicznych i ekonomicznych, uczący się metod numerycznych i analizy danych.\n",
    "* **Matematycy:** Zajmujący się matematyką stosowaną i obliczeniową.\n",
    "* **Programiści:** Tworzący aplikacje wymagające zaawansowanych funkcji obliczeniowych.\n",
    "\n",
    "Krótko mówiąc, SciPy jest kluczowym narzędziem dla każdego, kto pracuje z danymi numerycznymi i potrzebuje solidnych, sprawdzonych algorytmów do ich analizy i przetwarzania w środowisku Python.\n"
   ]
  },
  {
   "cell_type": "markdown",
   "metadata": {},
   "source": [
    "# Instalacja\n",
    "\n",
    "Najprostszym i najczęściej stosowanym sposobem instalacji biblioteki SciPy jest użycie menedżera pakietów `pip`, który jest standardowym narzędziem do zarządzania pakietami w środowisku Python.\n",
    "\n",
    "Przed instalacją **zdecydowanie zaleca się** utworzenie i aktywację dedykowanego środowiska wirtualnego (np. za pomocą modułu `venv` wbudowanego w Python lub narzędzia `conda`). Pozwoli to uniknąć potencjalnych konfliktów zależności między różnymi projektami.\n",
    "\n",
    "Aby zainstalować SciPy za pomocą narzędzia `pip` należy wykonać następujące polecenie w terminalu:\n",
    "\n",
    "```bash\n",
    "pip install scipy\n",
    "```"
   ]
  },
  {
   "cell_type": "markdown",
   "metadata": {},
   "source": [
    "# Zastosowania\n",
    "\n",
    "W kolejnych podpunktach zostaną opisane zastosowania konkretnych modułów bilbioteki SciPy"
   ]
  },
  {
   "cell_type": "markdown",
   "metadata": {},
   "source": [
    "## Moduł `scipy.optimize`: Optymalizacja i Wyszukiwanie Pierwiastków\n",
    "\n",
    "Moduł `scipy.optimize` dostarcza szerokiej gamy algorytmów służących do zadań optymalizacyjnych oraz znajdowania pierwiastków funkcji.\n",
    "\n",
    "### Przykład 1: Znajdowanie minimum funkcji jednej zmiennej\n",
    "\n",
    "Jednym z podstawowych zadań jest znalezienie argumentu `x`, dla którego funkcja `f(x)` osiąga lokalne minimum. Służy do tego funkcja `minimize_scalar`.\n",
    "\n",
    "Załóżmy, że chcemy znaleźć minimum funkcji $f(x) = (x - 3)^2 + 1$. Oczywiście wiemy analitycznie, że minimum znajduje się w punkcie $x=3$ i wynosi $1$. Zobaczmy, jak poradzi sobie z tym SciPy."
   ]
  },
  {
   "cell_type": "code",
   "execution_count": 4,
   "metadata": {},
   "outputs": [
    {
     "data": {
      "text/plain": [
       " message: \n",
       "          Optimization terminated successfully;\n",
       "          The returned value satisfies the termination criteria\n",
       "          (using xtol = 1.48e-08 )\n",
       " success: True\n",
       "     fun: 1.0\n",
       "       x: 3.0\n",
       "     nit: 4\n",
       "    nfev: 9"
      ]
     },
     "execution_count": 4,
     "metadata": {},
     "output_type": "execute_result"
    }
   ],
   "source": [
    "from scipy.optimize import minimize_scalar\n",
    "\n",
    "def func1d(x):\n",
    "  return (x - 3)**2 + 1\n",
    "\n",
    "res = minimize_scalar(func1d)\n",
    "res"
   ]
  },
  {
   "cell_type": "code",
   "execution_count": 5,
   "metadata": {},
   "outputs": [
    {
     "name": "stdout",
     "output_type": "stream",
     "text": [
      "\n",
      "Czy optymalizacja zakończyła się sukcesem? True\n",
      "Minimum znaleziono w punkcie x = 3.00\n",
      "Wartość funkcji w minimum f(x) = 1.00\n",
      "Liczba ewaluacji funkcji: 9\n"
     ]
    }
   ],
   "source": [
    "print(f\"\\nCzy optymalizacja zakończyła się sukcesem? {res.success}\")\n",
    "print(f\"Minimum znaleziono w punkcie x = {res.x:.2f}\")\n",
    "print(f\"Wartość funkcji w minimum f(x) = {res.fun:.2f}\")\n",
    "print(f\"Liczba ewaluacji funkcji: {res.nfev}\")"
   ]
  },
  {
   "cell_type": "markdown",
   "metadata": {},
   "source": [
    "## Przykład 2: Znajdowanie minimum funkcji dwócch zmiennych z ograniczeniami liniowymi\n",
    "\n",
    "Rozważmy nowy problem: chcemy znaleźć **minimum** funkcji celu:\n",
    "\n",
    "$f(x, y) = (x - 1)^2 + (y - 2.5)^2$\n",
    "\n",
    "Funkcja ta ma swoje globalne, nieograniczone minimum w punkcie $(1, 2.5)$, gdzie jej wartość wynosi 0.\n",
    "\n",
    "Nałożymy jednak następujące **ograniczenia** w postaci nierówności liniowych:\n",
    "\n",
    "1.  $x - 2y + 2 \\ge 0$\n",
    "2.  $-x - 2y + 6 \\ge 0$\n",
    "3.  $-x + 2y + 2 \\ge 0$\n",
    "4.  $x \\ge 0$\n",
    "5.  $y \\ge 0$\n",
    "\n",
    "Obszar dopuszczalny zdefiniowany przez te nierówności to wielokąt wypukły. Ponieważ nieograniczone minimum $(1, 2.5)$ nie spełnia wszystkich ograniczeń (np. pierwszego: $1 - 2(2.5) + 2 = -2 < 0$), spodziewamy się, że rozwiązanie leżeć będzie na granicy tego wielokąta.\n",
    "\n",
    "Ponownie użyjemy funkcji `minimize` z metodą `'SLSQP'` (algorytm Sequential Least SQuares Programming) i zdefiniujemy ograniczenia jako listę słowników. Zauważmy, że wszystkie nierówności są już w wymaganej formie $fun(x,y) \\ge 0$ dla typu `'ineq'`. Użyjemy też parametru `bounds` aby uwzględnić warunki $x \\ge 0$ i $y \\ge 0$"
   ]
  },
  {
   "cell_type": "code",
   "execution_count": 6,
   "metadata": {},
   "outputs": [
    {
     "data": {
      "text/plain": [
       " message: Optimization terminated successfully\n",
       " success: True\n",
       "  status: 0\n",
       "     fun: 0.7999999999999993\n",
       "       x: [ 1.400e+00  1.700e+00]\n",
       "     nit: 4\n",
       "     jac: [ 8.000e-01 -1.600e+00]\n",
       "    nfev: 12\n",
       "    njev: 4"
      ]
     },
     "execution_count": 6,
     "metadata": {},
     "output_type": "execute_result"
    }
   ],
   "source": [
    "from scipy.optimize import minimize\n",
    "\n",
    "def func(vec):\n",
    "  \"\"\"f(x, y) = (x - 1)^2 + (y - 2.5)^2\"\"\"\n",
    "  x, y = vec\n",
    "  return (x - 1)**2 + (y - 2.5)**2\n",
    "\n",
    "# Definicje funkcji dla ograniczeń (wszystkie typu fun(x, y) >= 0)\n",
    "def constraint1(vec):\n",
    "  \"\"\"x - 2y + 2 >= 0\"\"\"\n",
    "  return vec[0] - 2 * vec[1] + 2\n",
    "\n",
    "def constraint2(vec):\n",
    "  \"\"\"-x - 2y + 6 >= 0\"\"\"\n",
    "  return -vec[0] - 2 * vec[1] + 6\n",
    "\n",
    "def constraint3(vec):\n",
    "  \"\"\"-x + 2y + 2 >= 0\"\"\"\n",
    "  return -vec[0] + 2 * vec[1] + 2\n",
    "\n",
    "\n",
    "constraints_list = [\n",
    "    {'type': 'ineq', 'fun': constraint1},\n",
    "    {'type': 'ineq', 'fun': constraint2},\n",
    "    {'type': 'ineq', 'fun': constraint3},\n",
    "]\n",
    "\n",
    "# Początkowy punkt startowy (wybieramy punkt spełniający ograniczenia, np. (1, 1))\n",
    "initial_guess = [1.0, 1.0]\n",
    "\n",
    "# Ograniczenia x >= 0, y >= 0\n",
    "bounds = ((0, None), (0, None))\n",
    "\n",
    "res = minimize(func,initial_guess, constraints=constraints_list, bounds=bounds, method='SLSQP')\n",
    "res"
   ]
  },
  {
   "cell_type": "code",
   "execution_count": 8,
   "metadata": {},
   "outputs": [
    {
     "name": "stdout",
     "output_type": "stream",
     "text": [
      "\n",
      "Czy optymalizacja zakończyła się sukcesem? True\n",
      "Minimum znaleziono w punkcie x = 1.40, y = 1.70\n",
      "Wartość funkcji w minimum f(x) = 0.80\n",
      "Liczba ewaluacji funkcji: 12\n"
     ]
    }
   ],
   "source": [
    "print(f\"\\nCzy optymalizacja zakończyła się sukcesem? {res.success}\")\n",
    "print(f\"Minimum znaleziono w punkcie x = {res.x[0]:.2f}, y = {res.x[1]:.2f}\")\n",
    "print(f\"Wartość funkcji w minimum f(x) = {res.fun:.2f}\")\n",
    "print(f\"Liczba ewaluacji funkcji: {res.nfev}\")"
   ]
  }
 ],
 "metadata": {
  "kernelspec": {
   "display_name": "scipy-prezentacja",
   "language": "python",
   "name": "python3"
  },
  "language_info": {
   "codemirror_mode": {
    "name": "ipython",
    "version": 3
   },
   "file_extension": ".py",
   "mimetype": "text/x-python",
   "name": "python",
   "nbconvert_exporter": "python",
   "pygments_lexer": "ipython3",
   "version": "3.12.0"
  }
 },
 "nbformat": 4,
 "nbformat_minor": 2
}
